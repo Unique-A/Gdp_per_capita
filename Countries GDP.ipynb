{
 "cells": [
  {
   "cell_type": "code",
   "execution_count": 2,
   "metadata": {},
   "outputs": [],
   "source": [
    "import pandas as pd"
   ]
  },
  {
   "cell_type": "code",
   "execution_count": null,
   "metadata": {},
   "outputs": [],
   "source": [
    "data = pd.read_csv(\"gdp_per_capita/gdp_per_capita_2020July.csv\")"
   ]
  },
  {
   "cell_type": "code",
   "execution_count": 4,
   "metadata": {},
   "outputs": [
    {
     "data": {
      "text/html": [
       "<div>\n",
       "<style scoped>\n",
       "    .dataframe tbody tr th:only-of-type {\n",
       "        vertical-align: middle;\n",
       "    }\n",
       "\n",
       "    .dataframe tbody tr th {\n",
       "        vertical-align: top;\n",
       "    }\n",
       "\n",
       "    .dataframe thead th {\n",
       "        text-align: right;\n",
       "    }\n",
       "</style>\n",
       "<table border=\"1\" class=\"dataframe\">\n",
       "  <thead>\n",
       "    <tr style=\"text-align: right;\">\n",
       "      <th></th>\n",
       "      <th>Country Name</th>\n",
       "      <th>Country Code</th>\n",
       "      <th>Indicator Name</th>\n",
       "      <th>Indicator Code</th>\n",
       "      <th>1960</th>\n",
       "      <th>1961</th>\n",
       "      <th>1962</th>\n",
       "      <th>1963</th>\n",
       "      <th>1964</th>\n",
       "      <th>1965</th>\n",
       "      <th>...</th>\n",
       "      <th>2011</th>\n",
       "      <th>2012</th>\n",
       "      <th>2013</th>\n",
       "      <th>2014</th>\n",
       "      <th>2015</th>\n",
       "      <th>2016</th>\n",
       "      <th>2017</th>\n",
       "      <th>2018</th>\n",
       "      <th>2019</th>\n",
       "      <th>Unnamed: 64</th>\n",
       "    </tr>\n",
       "  </thead>\n",
       "  <tbody>\n",
       "    <tr>\n",
       "      <th>0</th>\n",
       "      <td>Aruba</td>\n",
       "      <td>ABW</td>\n",
       "      <td>GDP per capita (current US$)</td>\n",
       "      <td>NY.GDP.PCAP.CD</td>\n",
       "      <td>NaN</td>\n",
       "      <td>NaN</td>\n",
       "      <td>NaN</td>\n",
       "      <td>NaN</td>\n",
       "      <td>NaN</td>\n",
       "      <td>NaN</td>\n",
       "      <td>...</td>\n",
       "      <td>24985.993281</td>\n",
       "      <td>24713.698045</td>\n",
       "      <td>26189.435509</td>\n",
       "      <td>26647.938101</td>\n",
       "      <td>27980.880695</td>\n",
       "      <td>28281.350482</td>\n",
       "      <td>29007.693003</td>\n",
       "      <td>NaN</td>\n",
       "      <td>NaN</td>\n",
       "      <td>NaN</td>\n",
       "    </tr>\n",
       "    <tr>\n",
       "      <th>1</th>\n",
       "      <td>Afghanistan</td>\n",
       "      <td>AFG</td>\n",
       "      <td>GDP per capita (current US$)</td>\n",
       "      <td>NY.GDP.PCAP.CD</td>\n",
       "      <td>59.773194</td>\n",
       "      <td>59.860874</td>\n",
       "      <td>58.458015</td>\n",
       "      <td>78.706388</td>\n",
       "      <td>82.095231</td>\n",
       "      <td>101.108305</td>\n",
       "      <td>...</td>\n",
       "      <td>591.162759</td>\n",
       "      <td>641.871479</td>\n",
       "      <td>637.165523</td>\n",
       "      <td>613.856689</td>\n",
       "      <td>578.466353</td>\n",
       "      <td>547.228110</td>\n",
       "      <td>556.302002</td>\n",
       "      <td>524.162881</td>\n",
       "      <td>502.115487</td>\n",
       "      <td>NaN</td>\n",
       "    </tr>\n",
       "    <tr>\n",
       "      <th>2</th>\n",
       "      <td>Angola</td>\n",
       "      <td>AGO</td>\n",
       "      <td>GDP per capita (current US$)</td>\n",
       "      <td>NY.GDP.PCAP.CD</td>\n",
       "      <td>NaN</td>\n",
       "      <td>NaN</td>\n",
       "      <td>NaN</td>\n",
       "      <td>NaN</td>\n",
       "      <td>NaN</td>\n",
       "      <td>NaN</td>\n",
       "      <td>...</td>\n",
       "      <td>4615.468028</td>\n",
       "      <td>5100.095808</td>\n",
       "      <td>5254.882338</td>\n",
       "      <td>5408.410496</td>\n",
       "      <td>4166.979684</td>\n",
       "      <td>3506.072885</td>\n",
       "      <td>4095.812942</td>\n",
       "      <td>3289.646664</td>\n",
       "      <td>2973.591160</td>\n",
       "      <td>NaN</td>\n",
       "    </tr>\n",
       "    <tr>\n",
       "      <th>3</th>\n",
       "      <td>Albania</td>\n",
       "      <td>ALB</td>\n",
       "      <td>GDP per capita (current US$)</td>\n",
       "      <td>NY.GDP.PCAP.CD</td>\n",
       "      <td>NaN</td>\n",
       "      <td>NaN</td>\n",
       "      <td>NaN</td>\n",
       "      <td>NaN</td>\n",
       "      <td>NaN</td>\n",
       "      <td>NaN</td>\n",
       "      <td>...</td>\n",
       "      <td>4437.142885</td>\n",
       "      <td>4247.629984</td>\n",
       "      <td>4413.060861</td>\n",
       "      <td>4578.631994</td>\n",
       "      <td>3952.801215</td>\n",
       "      <td>4124.055726</td>\n",
       "      <td>4531.020806</td>\n",
       "      <td>5284.380184</td>\n",
       "      <td>5352.857411</td>\n",
       "      <td>NaN</td>\n",
       "    </tr>\n",
       "    <tr>\n",
       "      <th>4</th>\n",
       "      <td>Andorra</td>\n",
       "      <td>AND</td>\n",
       "      <td>GDP per capita (current US$)</td>\n",
       "      <td>NY.GDP.PCAP.CD</td>\n",
       "      <td>NaN</td>\n",
       "      <td>NaN</td>\n",
       "      <td>NaN</td>\n",
       "      <td>NaN</td>\n",
       "      <td>NaN</td>\n",
       "      <td>NaN</td>\n",
       "      <td>...</td>\n",
       "      <td>43335.328862</td>\n",
       "      <td>38686.461264</td>\n",
       "      <td>39538.766722</td>\n",
       "      <td>41303.929371</td>\n",
       "      <td>35762.523074</td>\n",
       "      <td>37474.665406</td>\n",
       "      <td>38962.880354</td>\n",
       "      <td>41793.055258</td>\n",
       "      <td>40886.391165</td>\n",
       "      <td>NaN</td>\n",
       "    </tr>\n",
       "  </tbody>\n",
       "</table>\n",
       "<p>5 rows × 65 columns</p>\n",
       "</div>"
      ],
      "text/plain": [
       "  Country Name Country Code                Indicator Name  Indicator Code  \\\n",
       "0        Aruba          ABW  GDP per capita (current US$)  NY.GDP.PCAP.CD   \n",
       "1  Afghanistan          AFG  GDP per capita (current US$)  NY.GDP.PCAP.CD   \n",
       "2       Angola          AGO  GDP per capita (current US$)  NY.GDP.PCAP.CD   \n",
       "3      Albania          ALB  GDP per capita (current US$)  NY.GDP.PCAP.CD   \n",
       "4      Andorra          AND  GDP per capita (current US$)  NY.GDP.PCAP.CD   \n",
       "\n",
       "        1960       1961       1962       1963       1964        1965  ...  \\\n",
       "0        NaN        NaN        NaN        NaN        NaN         NaN  ...   \n",
       "1  59.773194  59.860874  58.458015  78.706388  82.095231  101.108305  ...   \n",
       "2        NaN        NaN        NaN        NaN        NaN         NaN  ...   \n",
       "3        NaN        NaN        NaN        NaN        NaN         NaN  ...   \n",
       "4        NaN        NaN        NaN        NaN        NaN         NaN  ...   \n",
       "\n",
       "           2011          2012          2013          2014          2015  \\\n",
       "0  24985.993281  24713.698045  26189.435509  26647.938101  27980.880695   \n",
       "1    591.162759    641.871479    637.165523    613.856689    578.466353   \n",
       "2   4615.468028   5100.095808   5254.882338   5408.410496   4166.979684   \n",
       "3   4437.142885   4247.629984   4413.060861   4578.631994   3952.801215   \n",
       "4  43335.328862  38686.461264  39538.766722  41303.929371  35762.523074   \n",
       "\n",
       "           2016          2017          2018          2019  Unnamed: 64  \n",
       "0  28281.350482  29007.693003           NaN           NaN          NaN  \n",
       "1    547.228110    556.302002    524.162881    502.115487          NaN  \n",
       "2   3506.072885   4095.812942   3289.646664   2973.591160          NaN  \n",
       "3   4124.055726   4531.020806   5284.380184   5352.857411          NaN  \n",
       "4  37474.665406  38962.880354  41793.055258  40886.391165          NaN  \n",
       "\n",
       "[5 rows x 65 columns]"
      ]
     },
     "execution_count": 4,
     "metadata": {},
     "output_type": "execute_result"
    }
   ],
   "source": [
    "data.head() #There are 5 rows and 65 columns"
   ]
  },
  {
   "cell_type": "code",
   "execution_count": 5,
   "metadata": {},
   "outputs": [],
   "source": [
    "#set index as country name\n",
    "data.set_index(\"Country Name\", inplace=True)"
   ]
  },
  {
   "cell_type": "code",
   "execution_count": 6,
   "metadata": {},
   "outputs": [
    {
     "data": {
      "text/plain": [
       "Index(['Country Code', 'Indicator Name', 'Indicator Code', '1960', '1961',\n",
       "       '1962', '1963', '1964', '1965', '1966', '1967', '1968', '1969', '1970',\n",
       "       '1971', '1972', '1973', '1974', '1975', '1976', '1977', '1978', '1979',\n",
       "       '1980', '1981', '1982', '1983', '1984', '1985', '1986', '1987', '1988',\n",
       "       '1989', '1990', '1991', '1992', '1993', '1994', '1995', '1996', '1997',\n",
       "       '1998', '1999', '2000', '2001', '2002', '2003', '2004', '2005', '2006',\n",
       "       '2007', '2008', '2009', '2010', '2011', '2012', '2013', '2014', '2015',\n",
       "       '2016', '2017', '2018', '2019', 'Unnamed: 64'],\n",
       "      dtype='object')"
      ]
     },
     "execution_count": 6,
     "metadata": {},
     "output_type": "execute_result"
    }
   ],
   "source": [
    "data.columns"
   ]
  },
  {
   "cell_type": "code",
   "execution_count": 7,
   "metadata": {},
   "outputs": [
    {
     "data": {
      "text/plain": [
       "(264, 64)"
      ]
     },
     "execution_count": 7,
     "metadata": {},
     "output_type": "execute_result"
    }
   ],
   "source": [
    "data.shape"
   ]
  },
  {
   "cell_type": "code",
   "execution_count": 8,
   "metadata": {},
   "outputs": [
    {
     "data": {
      "text/html": [
       "<div>\n",
       "<style scoped>\n",
       "    .dataframe tbody tr th:only-of-type {\n",
       "        vertical-align: middle;\n",
       "    }\n",
       "\n",
       "    .dataframe tbody tr th {\n",
       "        vertical-align: top;\n",
       "    }\n",
       "\n",
       "    .dataframe thead th {\n",
       "        text-align: right;\n",
       "    }\n",
       "</style>\n",
       "<table border=\"1\" class=\"dataframe\">\n",
       "  <thead>\n",
       "    <tr style=\"text-align: right;\">\n",
       "      <th></th>\n",
       "      <th>Country Code</th>\n",
       "      <th>Indicator Name</th>\n",
       "      <th>Indicator Code</th>\n",
       "      <th>1960</th>\n",
       "      <th>1961</th>\n",
       "      <th>1962</th>\n",
       "      <th>1963</th>\n",
       "      <th>1964</th>\n",
       "      <th>1965</th>\n",
       "      <th>1966</th>\n",
       "      <th>...</th>\n",
       "      <th>2011</th>\n",
       "      <th>2012</th>\n",
       "      <th>2013</th>\n",
       "      <th>2014</th>\n",
       "      <th>2015</th>\n",
       "      <th>2016</th>\n",
       "      <th>2017</th>\n",
       "      <th>2018</th>\n",
       "      <th>2019</th>\n",
       "      <th>Unnamed: 64</th>\n",
       "    </tr>\n",
       "    <tr>\n",
       "      <th>Country Name</th>\n",
       "      <th></th>\n",
       "      <th></th>\n",
       "      <th></th>\n",
       "      <th></th>\n",
       "      <th></th>\n",
       "      <th></th>\n",
       "      <th></th>\n",
       "      <th></th>\n",
       "      <th></th>\n",
       "      <th></th>\n",
       "      <th></th>\n",
       "      <th></th>\n",
       "      <th></th>\n",
       "      <th></th>\n",
       "      <th></th>\n",
       "      <th></th>\n",
       "      <th></th>\n",
       "      <th></th>\n",
       "      <th></th>\n",
       "      <th></th>\n",
       "      <th></th>\n",
       "    </tr>\n",
       "  </thead>\n",
       "  <tbody>\n",
       "    <tr>\n",
       "      <th>Aruba</th>\n",
       "      <td>ABW</td>\n",
       "      <td>GDP per capita (current US$)</td>\n",
       "      <td>NY.GDP.PCAP.CD</td>\n",
       "      <td>NaN</td>\n",
       "      <td>NaN</td>\n",
       "      <td>NaN</td>\n",
       "      <td>NaN</td>\n",
       "      <td>NaN</td>\n",
       "      <td>NaN</td>\n",
       "      <td>NaN</td>\n",
       "      <td>...</td>\n",
       "      <td>24985.993281</td>\n",
       "      <td>24713.698045</td>\n",
       "      <td>26189.435509</td>\n",
       "      <td>26647.938101</td>\n",
       "      <td>27980.880695</td>\n",
       "      <td>28281.350482</td>\n",
       "      <td>29007.693003</td>\n",
       "      <td>NaN</td>\n",
       "      <td>NaN</td>\n",
       "      <td>NaN</td>\n",
       "    </tr>\n",
       "    <tr>\n",
       "      <th>Afghanistan</th>\n",
       "      <td>AFG</td>\n",
       "      <td>GDP per capita (current US$)</td>\n",
       "      <td>NY.GDP.PCAP.CD</td>\n",
       "      <td>59.773194</td>\n",
       "      <td>59.860874</td>\n",
       "      <td>58.458015</td>\n",
       "      <td>78.706388</td>\n",
       "      <td>82.095231</td>\n",
       "      <td>101.108305</td>\n",
       "      <td>137.594352</td>\n",
       "      <td>...</td>\n",
       "      <td>591.162759</td>\n",
       "      <td>641.871479</td>\n",
       "      <td>637.165523</td>\n",
       "      <td>613.856689</td>\n",
       "      <td>578.466353</td>\n",
       "      <td>547.228110</td>\n",
       "      <td>556.302002</td>\n",
       "      <td>524.162881</td>\n",
       "      <td>502.115487</td>\n",
       "      <td>NaN</td>\n",
       "    </tr>\n",
       "    <tr>\n",
       "      <th>Angola</th>\n",
       "      <td>AGO</td>\n",
       "      <td>GDP per capita (current US$)</td>\n",
       "      <td>NY.GDP.PCAP.CD</td>\n",
       "      <td>NaN</td>\n",
       "      <td>NaN</td>\n",
       "      <td>NaN</td>\n",
       "      <td>NaN</td>\n",
       "      <td>NaN</td>\n",
       "      <td>NaN</td>\n",
       "      <td>NaN</td>\n",
       "      <td>...</td>\n",
       "      <td>4615.468028</td>\n",
       "      <td>5100.095808</td>\n",
       "      <td>5254.882338</td>\n",
       "      <td>5408.410496</td>\n",
       "      <td>4166.979684</td>\n",
       "      <td>3506.072885</td>\n",
       "      <td>4095.812942</td>\n",
       "      <td>3289.646664</td>\n",
       "      <td>2973.591160</td>\n",
       "      <td>NaN</td>\n",
       "    </tr>\n",
       "    <tr>\n",
       "      <th>Albania</th>\n",
       "      <td>ALB</td>\n",
       "      <td>GDP per capita (current US$)</td>\n",
       "      <td>NY.GDP.PCAP.CD</td>\n",
       "      <td>NaN</td>\n",
       "      <td>NaN</td>\n",
       "      <td>NaN</td>\n",
       "      <td>NaN</td>\n",
       "      <td>NaN</td>\n",
       "      <td>NaN</td>\n",
       "      <td>NaN</td>\n",
       "      <td>...</td>\n",
       "      <td>4437.142885</td>\n",
       "      <td>4247.629984</td>\n",
       "      <td>4413.060861</td>\n",
       "      <td>4578.631994</td>\n",
       "      <td>3952.801215</td>\n",
       "      <td>4124.055726</td>\n",
       "      <td>4531.020806</td>\n",
       "      <td>5284.380184</td>\n",
       "      <td>5352.857411</td>\n",
       "      <td>NaN</td>\n",
       "    </tr>\n",
       "    <tr>\n",
       "      <th>Andorra</th>\n",
       "      <td>AND</td>\n",
       "      <td>GDP per capita (current US$)</td>\n",
       "      <td>NY.GDP.PCAP.CD</td>\n",
       "      <td>NaN</td>\n",
       "      <td>NaN</td>\n",
       "      <td>NaN</td>\n",
       "      <td>NaN</td>\n",
       "      <td>NaN</td>\n",
       "      <td>NaN</td>\n",
       "      <td>NaN</td>\n",
       "      <td>...</td>\n",
       "      <td>43335.328862</td>\n",
       "      <td>38686.461264</td>\n",
       "      <td>39538.766722</td>\n",
       "      <td>41303.929371</td>\n",
       "      <td>35762.523074</td>\n",
       "      <td>37474.665406</td>\n",
       "      <td>38962.880354</td>\n",
       "      <td>41793.055258</td>\n",
       "      <td>40886.391165</td>\n",
       "      <td>NaN</td>\n",
       "    </tr>\n",
       "  </tbody>\n",
       "</table>\n",
       "<p>5 rows × 64 columns</p>\n",
       "</div>"
      ],
      "text/plain": [
       "             Country Code                Indicator Name  Indicator Code  \\\n",
       "Country Name                                                              \n",
       "Aruba                 ABW  GDP per capita (current US$)  NY.GDP.PCAP.CD   \n",
       "Afghanistan           AFG  GDP per capita (current US$)  NY.GDP.PCAP.CD   \n",
       "Angola                AGO  GDP per capita (current US$)  NY.GDP.PCAP.CD   \n",
       "Albania               ALB  GDP per capita (current US$)  NY.GDP.PCAP.CD   \n",
       "Andorra               AND  GDP per capita (current US$)  NY.GDP.PCAP.CD   \n",
       "\n",
       "                   1960       1961       1962       1963       1964  \\\n",
       "Country Name                                                          \n",
       "Aruba               NaN        NaN        NaN        NaN        NaN   \n",
       "Afghanistan   59.773194  59.860874  58.458015  78.706388  82.095231   \n",
       "Angola              NaN        NaN        NaN        NaN        NaN   \n",
       "Albania             NaN        NaN        NaN        NaN        NaN   \n",
       "Andorra             NaN        NaN        NaN        NaN        NaN   \n",
       "\n",
       "                    1965        1966  ...          2011          2012  \\\n",
       "Country Name                          ...                               \n",
       "Aruba                NaN         NaN  ...  24985.993281  24713.698045   \n",
       "Afghanistan   101.108305  137.594352  ...    591.162759    641.871479   \n",
       "Angola               NaN         NaN  ...   4615.468028   5100.095808   \n",
       "Albania              NaN         NaN  ...   4437.142885   4247.629984   \n",
       "Andorra              NaN         NaN  ...  43335.328862  38686.461264   \n",
       "\n",
       "                      2013          2014          2015          2016  \\\n",
       "Country Name                                                           \n",
       "Aruba         26189.435509  26647.938101  27980.880695  28281.350482   \n",
       "Afghanistan     637.165523    613.856689    578.466353    547.228110   \n",
       "Angola         5254.882338   5408.410496   4166.979684   3506.072885   \n",
       "Albania        4413.060861   4578.631994   3952.801215   4124.055726   \n",
       "Andorra       39538.766722  41303.929371  35762.523074  37474.665406   \n",
       "\n",
       "                      2017          2018          2019  Unnamed: 64  \n",
       "Country Name                                                         \n",
       "Aruba         29007.693003           NaN           NaN          NaN  \n",
       "Afghanistan     556.302002    524.162881    502.115487          NaN  \n",
       "Angola         4095.812942   3289.646664   2973.591160          NaN  \n",
       "Albania        4531.020806   5284.380184   5352.857411          NaN  \n",
       "Andorra       38962.880354  41793.055258  40886.391165          NaN  \n",
       "\n",
       "[5 rows x 64 columns]"
      ]
     },
     "execution_count": 8,
     "metadata": {},
     "output_type": "execute_result"
    }
   ],
   "source": [
    "data.head()"
   ]
  },
  {
   "cell_type": "code",
   "execution_count": 9,
   "metadata": {},
   "outputs": [],
   "source": [
    "#delete unwanted column\n",
    "data.drop([\"Country Code\",\"Indicator Name\",\"Indicator Code\"], axis=\"columns\", inplace=True)"
   ]
  },
  {
   "cell_type": "code",
   "execution_count": 10,
   "metadata": {},
   "outputs": [],
   "source": [
    "italy=data.loc[\"Italy\"]#to locate italy information"
   ]
  },
  {
   "cell_type": "code",
   "execution_count": 11,
   "metadata": {},
   "outputs": [
    {
     "data": {
      "text/plain": [
       "pandas.core.series.Series"
      ]
     },
     "execution_count": 11,
     "metadata": {},
     "output_type": "execute_result"
    }
   ],
   "source": [
    "type(italy)"
   ]
  },
  {
   "cell_type": "code",
   "execution_count": 12,
   "metadata": {},
   "outputs": [
    {
     "data": {
      "text/plain": [
       "1960             804.492623\n",
       "1961             887.336745\n",
       "1962             990.260152\n",
       "1963            1126.019337\n",
       "1964            1222.544540\n",
       "                   ...     \n",
       "2016           30939.714246\n",
       "2017           32406.720315\n",
       "2018           34520.085162\n",
       "2019           33189.565799\n",
       "Unnamed: 64             NaN\n",
       "Name: Italy, Length: 61, dtype: float64"
      ]
     },
     "execution_count": 12,
     "metadata": {},
     "output_type": "execute_result"
    }
   ],
   "source": [
    "#italy's gdp per capita\n",
    "italy"
   ]
  },
  {
   "cell_type": "markdown",
   "metadata": {},
   "source": [
    "Year that italy has the highest increase of gdp"
   ]
  },
  {
   "cell_type": "code",
   "execution_count": 13,
   "metadata": {},
   "outputs": [],
   "source": [
    "italy_pct_change=italy.pct_change()"
   ]
  },
  {
   "cell_type": "code",
   "execution_count": 14,
   "metadata": {},
   "outputs": [],
   "source": [
    "italy_pct_change=italy_pct_change*100"
   ]
  },
  {
   "cell_type": "code",
   "execution_count": 15,
   "metadata": {},
   "outputs": [],
   "source": [
    "pd.options.display.max_rows=None"
   ]
  },
  {
   "cell_type": "code",
   "execution_count": 16,
   "metadata": {},
   "outputs": [
    {
     "data": {
      "text/plain": [
       "'1986'"
      ]
     },
     "execution_count": 16,
     "metadata": {},
     "output_type": "execute_result"
    }
   ],
   "source": [
    "italy_pct_change.idxmax()#shows index of the year with maximum percentage"
   ]
  },
  {
   "cell_type": "code",
   "execution_count": 17,
   "metadata": {},
   "outputs": [
    {
     "data": {
      "text/plain": [
       "41.60254037779829"
      ]
     },
     "execution_count": 17,
     "metadata": {},
     "output_type": "execute_result"
    }
   ],
   "source": [
    "italy_pct_change.max()"
   ]
  },
  {
   "cell_type": "code",
   "execution_count": 18,
   "metadata": {},
   "outputs": [
    {
     "data": {
      "text/plain": [
       "1986    41.602540\n",
       "1990    27.089849\n",
       "1987    25.803885\n",
       "1979    24.592962\n",
       "2003    23.329580\n",
       "Name: Italy, dtype: float64"
      ]
     },
     "execution_count": 18,
     "metadata": {},
     "output_type": "execute_result"
    }
   ],
   "source": [
    "italy_pct_change.nlargest(5)#5 highest gdp years with increase"
   ]
  },
  {
   "cell_type": "code",
   "execution_count": 19,
   "metadata": {},
   "outputs": [
    {
     "data": {
      "text/plain": [
       "1960           False\n",
       "1961           False\n",
       "1962           False\n",
       "1963           False\n",
       "1964           False\n",
       "1965           False\n",
       "1966           False\n",
       "1967           False\n",
       "1968           False\n",
       "1969           False\n",
       "1970           False\n",
       "1971           False\n",
       "1972           False\n",
       "1973           False\n",
       "1974           False\n",
       "1975           False\n",
       "1976            True\n",
       "1977           False\n",
       "1978           False\n",
       "1979           False\n",
       "1980           False\n",
       "1981            True\n",
       "1982            True\n",
       "1983           False\n",
       "1984            True\n",
       "1985           False\n",
       "1986           False\n",
       "1987           False\n",
       "1988           False\n",
       "1989           False\n",
       "1990           False\n",
       "1991           False\n",
       "1992           False\n",
       "1993            True\n",
       "1994           False\n",
       "1995           False\n",
       "1996           False\n",
       "1997            True\n",
       "1998           False\n",
       "1999            True\n",
       "2000            True\n",
       "2001           False\n",
       "2002           False\n",
       "2003           False\n",
       "2004           False\n",
       "2005           False\n",
       "2006           False\n",
       "2007           False\n",
       "2008           False\n",
       "2009            True\n",
       "2010            True\n",
       "2011           False\n",
       "2012            True\n",
       "2013           False\n",
       "2014            True\n",
       "2015            True\n",
       "2016           False\n",
       "2017           False\n",
       "2018           False\n",
       "2019            True\n",
       "Unnamed: 64    False\n",
       "Name: Italy, dtype: bool"
      ]
     },
     "execution_count": 19,
     "metadata": {},
     "output_type": "execute_result"
    }
   ],
   "source": [
    "italy_pct_change < 0"
   ]
  },
  {
   "cell_type": "code",
   "execution_count": 20,
   "metadata": {},
   "outputs": [],
   "source": [
    "italy_negative=italy_pct_change[italy_pct_change < 0]"
   ]
  },
  {
   "cell_type": "code",
   "execution_count": 21,
   "metadata": {},
   "outputs": [
    {
     "data": {
      "text/plain": [
       "1976    -1.799235\n",
       "1981    -9.862760\n",
       "1982    -0.869885\n",
       "1984    -1.185563\n",
       "1993   -19.380539\n",
       "1997    -5.425354\n",
       "1999    -1.436110\n",
       "2000    -8.682903\n",
       "2009    -9.069972\n",
       "2010    -2.910587\n",
       "2012    -9.185549\n",
       "2014    -0.088775\n",
       "2015   -14.888584\n",
       "2019    -3.854334\n",
       "Name: Italy, dtype: float64"
      ]
     },
     "execution_count": 21,
     "metadata": {},
     "output_type": "execute_result"
    }
   ],
   "source": [
    "italy_negative"
   ]
  },
  {
   "cell_type": "code",
   "execution_count": 22,
   "metadata": {},
   "outputs": [
    {
     "data": {
      "text/plain": [
       "Index(['1976', '1981', '1982', '1984', '1993', '1997', '1999', '2000', '2009',\n",
       "       '2010', '2012', '2014', '2015', '2019'],\n",
       "      dtype='object')"
      ]
     },
     "execution_count": 22,
     "metadata": {},
     "output_type": "execute_result"
    }
   ],
   "source": [
    "#show years\n",
    "italy_negative.index"
   ]
  },
  {
   "cell_type": "code",
   "execution_count": 23,
   "metadata": {},
   "outputs": [],
   "source": [
    "#data for the whole world\n",
    "world=data.loc[\"World\"]"
   ]
  },
  {
   "cell_type": "code",
   "execution_count": 24,
   "metadata": {},
   "outputs": [
    {
     "data": {
      "text/html": [
       "<div>\n",
       "<style scoped>\n",
       "    .dataframe tbody tr th:only-of-type {\n",
       "        vertical-align: middle;\n",
       "    }\n",
       "\n",
       "    .dataframe tbody tr th {\n",
       "        vertical-align: top;\n",
       "    }\n",
       "\n",
       "    .dataframe thead th {\n",
       "        text-align: right;\n",
       "    }\n",
       "</style>\n",
       "<table border=\"1\" class=\"dataframe\">\n",
       "  <thead>\n",
       "    <tr style=\"text-align: right;\">\n",
       "      <th></th>\n",
       "      <th>1960</th>\n",
       "      <th>1961</th>\n",
       "      <th>1962</th>\n",
       "      <th>1963</th>\n",
       "      <th>1964</th>\n",
       "      <th>1965</th>\n",
       "      <th>1966</th>\n",
       "      <th>1967</th>\n",
       "      <th>1968</th>\n",
       "      <th>1969</th>\n",
       "      <th>...</th>\n",
       "      <th>2011</th>\n",
       "      <th>2012</th>\n",
       "      <th>2013</th>\n",
       "      <th>2014</th>\n",
       "      <th>2015</th>\n",
       "      <th>2016</th>\n",
       "      <th>2017</th>\n",
       "      <th>2018</th>\n",
       "      <th>2019</th>\n",
       "      <th>Unnamed: 64</th>\n",
       "    </tr>\n",
       "    <tr>\n",
       "      <th>Country Name</th>\n",
       "      <th></th>\n",
       "      <th></th>\n",
       "      <th></th>\n",
       "      <th></th>\n",
       "      <th></th>\n",
       "      <th></th>\n",
       "      <th></th>\n",
       "      <th></th>\n",
       "      <th></th>\n",
       "      <th></th>\n",
       "      <th></th>\n",
       "      <th></th>\n",
       "      <th></th>\n",
       "      <th></th>\n",
       "      <th></th>\n",
       "      <th></th>\n",
       "      <th></th>\n",
       "      <th></th>\n",
       "      <th></th>\n",
       "      <th></th>\n",
       "      <th></th>\n",
       "    </tr>\n",
       "  </thead>\n",
       "  <tbody>\n",
       "    <tr>\n",
       "      <th>Arab World</th>\n",
       "      <td>NaN</td>\n",
       "      <td>NaN</td>\n",
       "      <td>NaN</td>\n",
       "      <td>NaN</td>\n",
       "      <td>NaN</td>\n",
       "      <td>NaN</td>\n",
       "      <td>NaN</td>\n",
       "      <td>NaN</td>\n",
       "      <td>224.878679</td>\n",
       "      <td>240.036240</td>\n",
       "      <td>...</td>\n",
       "      <td>6867.692047</td>\n",
       "      <td>7465.151651</td>\n",
       "      <td>7519.808260</td>\n",
       "      <td>7457.461109</td>\n",
       "      <td>6387.660615</td>\n",
       "      <td>6097.239025</td>\n",
       "      <td>6102.211067</td>\n",
       "      <td>6603.351190</td>\n",
       "      <td>6580.056257</td>\n",
       "      <td>NaN</td>\n",
       "    </tr>\n",
       "    <tr>\n",
       "      <th>World</th>\n",
       "      <td>452.108859</td>\n",
       "      <td>464.049009</td>\n",
       "      <td>489.547101</td>\n",
       "      <td>516.615106</td>\n",
       "      <td>554.553301</td>\n",
       "      <td>591.718115</td>\n",
       "      <td>628.738759</td>\n",
       "      <td>655.873528</td>\n",
       "      <td>693.901057</td>\n",
       "      <td>749.725142</td>\n",
       "      <td>...</td>\n",
       "      <td>10488.334016</td>\n",
       "      <td>10605.208322</td>\n",
       "      <td>10781.855305</td>\n",
       "      <td>10952.344419</td>\n",
       "      <td>10246.507362</td>\n",
       "      <td>10281.908800</td>\n",
       "      <td>10817.481947</td>\n",
       "      <td>11381.680597</td>\n",
       "      <td>11435.609873</td>\n",
       "      <td>NaN</td>\n",
       "    </tr>\n",
       "  </tbody>\n",
       "</table>\n",
       "<p>2 rows × 61 columns</p>\n",
       "</div>"
      ],
      "text/plain": [
       "                    1960        1961        1962        1963        1964  \\\n",
       "Country Name                                                               \n",
       "Arab World           NaN         NaN         NaN         NaN         NaN   \n",
       "World         452.108859  464.049009  489.547101  516.615106  554.553301   \n",
       "\n",
       "                    1965        1966        1967        1968        1969  ...  \\\n",
       "Country Name                                                              ...   \n",
       "Arab World           NaN         NaN         NaN  224.878679  240.036240  ...   \n",
       "World         591.718115  628.738759  655.873528  693.901057  749.725142  ...   \n",
       "\n",
       "                      2011          2012          2013          2014  \\\n",
       "Country Name                                                           \n",
       "Arab World     6867.692047   7465.151651   7519.808260   7457.461109   \n",
       "World         10488.334016  10605.208322  10781.855305  10952.344419   \n",
       "\n",
       "                      2015          2016          2017          2018  \\\n",
       "Country Name                                                           \n",
       "Arab World     6387.660615   6097.239025   6102.211067   6603.351190   \n",
       "World         10246.507362  10281.908800  10817.481947  11381.680597   \n",
       "\n",
       "                      2019  Unnamed: 64  \n",
       "Country Name                             \n",
       "Arab World     6580.056257          NaN  \n",
       "World         11435.609873          NaN  \n",
       "\n",
       "[2 rows x 61 columns]"
      ]
     },
     "execution_count": 24,
     "metadata": {},
     "output_type": "execute_result"
    }
   ],
   "source": [
    "data[data.index.str.contains(\"world\",case=False)]\n",
    "#to check if there is an index with world"
   ]
  },
  {
   "cell_type": "code",
   "execution_count": 25,
   "metadata": {},
   "outputs": [
    {
     "data": {
      "text/plain": [
       "1960    452.108859\n",
       "1961    464.049009\n",
       "1962    489.547101\n",
       "1963    516.615106\n",
       "1964    554.553301\n",
       "Name: World, dtype: float64"
      ]
     },
     "execution_count": 25,
     "metadata": {},
     "output_type": "execute_result"
    }
   ],
   "source": [
    "world.head(5)"
   ]
  },
  {
   "cell_type": "code",
   "execution_count": 26,
   "metadata": {},
   "outputs": [
    {
     "data": {
      "text/plain": [
       "'1973'"
      ]
     },
     "execution_count": 26,
     "metadata": {},
     "output_type": "execute_result"
    }
   ],
   "source": [
    "world.pct_change().idxmax()"
   ]
  },
  {
   "cell_type": "code",
   "execution_count": 27,
   "metadata": {},
   "outputs": [],
   "source": [
    "data_st_deviation=data.std()"
   ]
  },
  {
   "cell_type": "code",
   "execution_count": 28,
   "metadata": {},
   "outputs": [
    {
     "data": {
      "text/plain": [
       "1960             616.785920\n",
       "1961             640.565654\n",
       "1962             671.604311\n",
       "1963             711.308655\n",
       "1964             777.885298\n",
       "1965             871.592933\n",
       "1966             941.155061\n",
       "1967             972.379823\n",
       "1968            1003.955689\n",
       "1969            1081.005839\n",
       "1970            1502.515921\n",
       "1971            1667.576421\n",
       "1972            1972.996423\n",
       "1973            2484.508375\n",
       "1974            3078.850036\n",
       "1975            3901.760053\n",
       "1976            4239.908374\n",
       "1977            4629.686988\n",
       "1978            5106.088257\n",
       "1979            6110.719389\n",
       "1980            7027.306246\n",
       "1981            6588.758320\n",
       "1982            6020.992290\n",
       "1983            5587.148107\n",
       "1984            5427.941516\n",
       "1985            5415.922307\n",
       "1986            6553.874383\n",
       "1987            7829.097029\n",
       "1988            8476.585531\n",
       "1989            8597.477810\n",
       "1990            9913.182936\n",
       "1991           10090.729157\n",
       "1992           10836.770255\n",
       "1993           10297.909518\n",
       "1994           10990.545497\n",
       "1995           12492.832646\n",
       "1996           12660.875855\n",
       "1997           11897.722518\n",
       "1998           12311.413958\n",
       "1999           12817.233596\n",
       "2000           12312.902898\n",
       "2001           12297.298688\n",
       "2002           13157.912758\n",
       "2003           15225.571063\n",
       "2004           17193.978510\n",
       "2005           18117.241341\n",
       "2006           19972.556260\n",
       "2007           22922.308837\n",
       "2008           24399.207273\n",
       "2009           21341.053469\n",
       "2010           21914.651799\n",
       "2011           24139.100126\n",
       "2012           23348.430334\n",
       "2013           24931.331730\n",
       "2014           25326.276983\n",
       "2015           22689.486513\n",
       "2016           22890.224017\n",
       "2017           23746.968589\n",
       "2018           22823.287773\n",
       "2019           19337.616848\n",
       "Unnamed: 64             NaN\n",
       "dtype: float64"
      ]
     },
     "execution_count": 28,
     "metadata": {},
     "output_type": "execute_result"
    }
   ],
   "source": [
    "data_st_deviation"
   ]
  },
  {
   "cell_type": "code",
   "execution_count": 30,
   "metadata": {},
   "outputs": [],
   "source": [
    "# get the data for the year 2019\n",
    "data2019=data[\"2019\"]"
   ]
  },
  {
   "cell_type": "code",
   "execution_count": 31,
   "metadata": {},
   "outputs": [
    {
     "data": {
      "text/plain": [
       "'Luxembourg'"
      ]
     },
     "execution_count": 31,
     "metadata": {},
     "output_type": "execute_result"
    }
   ],
   "source": [
    "data2019.idxmax()"
   ]
  },
  {
   "cell_type": "code",
   "execution_count": 32,
   "metadata": {},
   "outputs": [
    {
     "data": {
      "text/plain": [
       "'Burundi'"
      ]
     },
     "execution_count": 32,
     "metadata": {},
     "output_type": "execute_result"
    }
   ],
   "source": [
    "data2019.idxmin()"
   ]
  },
  {
   "cell_type": "code",
   "execution_count": 33,
   "metadata": {},
   "outputs": [
    {
     "data": {
      "text/plain": [
       "Country Name\n",
       "Luxembourg    114704.594171\n",
       "Name: 2019, dtype: float64"
      ]
     },
     "execution_count": 33,
     "metadata": {},
     "output_type": "execute_result"
    }
   ],
   "source": [
    "data2019.nlargest(1)"
   ]
  },
  {
   "cell_type": "code",
   "execution_count": 34,
   "metadata": {},
   "outputs": [
    {
     "data": {
      "text/plain": [
       "1960            5.0\n",
       "1961            6.0\n",
       "1962            5.0\n",
       "1963            5.0\n",
       "1964            5.0\n",
       "1965            5.0\n",
       "1966            7.0\n",
       "1967            9.0\n",
       "1968            6.0\n",
       "1969            6.0\n",
       "1970            5.0\n",
       "1971            8.0\n",
       "1972            6.0\n",
       "1973            2.0\n",
       "1974            4.0\n",
       "1975            8.0\n",
       "1976            8.0\n",
       "1977            8.0\n",
       "1978            6.0\n",
       "1979            7.0\n",
       "1980            8.0\n",
       "1981           12.0\n",
       "1982           15.0\n",
       "1983           13.0\n",
       "1984           14.0\n",
       "1985           13.0\n",
       "1986            8.0\n",
       "1987            5.0\n",
       "1988            4.0\n",
       "1989            4.0\n",
       "1990            4.0\n",
       "1991            4.0\n",
       "1992            3.0\n",
       "1993            3.0\n",
       "1994            3.0\n",
       "1995            3.0\n",
       "1996            3.0\n",
       "1997            4.0\n",
       "1998            4.0\n",
       "1999            4.0\n",
       "2000            4.0\n",
       "2001            4.0\n",
       "2002            4.0\n",
       "2003            4.0\n",
       "2004            3.0\n",
       "2005            3.0\n",
       "2006            3.0\n",
       "2007            3.0\n",
       "2008            3.0\n",
       "2009            3.0\n",
       "2010            3.0\n",
       "2011            3.0\n",
       "2012            3.0\n",
       "2013            3.0\n",
       "2014            3.0\n",
       "2015            3.0\n",
       "2016            3.0\n",
       "2017            3.0\n",
       "2018            2.0\n",
       "2019            1.0\n",
       "Unnamed: 64     NaN\n",
       "Name: Luxembourg, dtype: float64"
      ]
     },
     "execution_count": 34,
     "metadata": {},
     "output_type": "execute_result"
    }
   ],
   "source": [
    "ranked_gdp=data.rank(ascending=False)\n",
    "ranked_gdp\n",
    "luxem_rank=ranked_gdp.loc[\"Luxembourg\"]\n",
    "luxem_rank"
   ]
  },
  {
   "cell_type": "code",
   "execution_count": null,
   "metadata": {},
   "outputs": [],
   "source": []
  }
 ],
 "metadata": {
  "kernelspec": {
   "display_name": "Python 3",
   "language": "python",
   "name": "python3"
  },
  "language_info": {
   "codemirror_mode": {
    "name": "ipython",
    "version": 3
   },
   "file_extension": ".py",
   "mimetype": "text/x-python",
   "name": "python",
   "nbconvert_exporter": "python",
   "pygments_lexer": "ipython3",
   "version": "3.8.3"
  }
 },
 "nbformat": 4,
 "nbformat_minor": 4
}
